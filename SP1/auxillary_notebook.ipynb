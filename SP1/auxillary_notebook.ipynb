{
 "cells": [
  {
   "cell_type": "code",
   "execution_count": 3,
   "id": "38cb9c79",
   "metadata": {},
   "outputs": [],
   "source": [
    "def mirror(text):\n",
    "    mirror_point = int(len(text)/2)\n",
    "    res = text[:mirror_point] # Get Slice of Text\n",
    "    return res + res[::-1] # Add Slice Plus Reverse of the Slice"
   ]
  },
  {
   "cell_type": "code",
   "execution_count": 4,
   "id": "316545bc",
   "metadata": {},
   "outputs": [
    {
     "name": "stdout",
     "output_type": "stream",
     "text": [
      "abba\n"
     ]
    }
   ],
   "source": [
    "mirrored_string = mirror(\"abcd\")\n",
    "print(mirrored_string)"
   ]
  },
  {
   "cell_type": "code",
   "execution_count": 5,
   "id": "9fecb877",
   "metadata": {},
   "outputs": [
    {
     "name": "stdout",
     "output_type": "stream",
     "text": [
      "dlroW olleH\n"
     ]
    }
   ],
   "source": [
    "txt = \"Hello World\"[::-1]\n",
    "print(txt)"
   ]
  },
  {
   "cell_type": "code",
   "execution_count": 6,
   "id": "7786f73c",
   "metadata": {},
   "outputs": [
    {
     "name": "stdout",
     "output_type": "stream",
     "text": [
      "|$|AleDen|ijidEgart|yndAZ|IJAlovdo!|s|rEnert|$|\n"
     ]
    }
   ],
   "source": [
    "txt = \"|$|trenEr|s|!odvolAJI|ZAdny|tragEdiji|neDelA|$|\"[::-1]\n",
    "print(txt)"
   ]
  },
  {
   "cell_type": "code",
   "execution_count": 7,
   "id": "2fc604fa",
   "metadata": {},
   "outputs": [
    {
     "name": "stdout",
     "output_type": "stream",
     "text": [
      "|$|trenEr|s|!odvolAJI|ZAdny|tragEdiji|neDelA|$|\n"
     ]
    }
   ],
   "source": [
    "txt = txt[::-1]\n",
    "print(txt)"
   ]
  },
  {
   "cell_type": "code",
   "execution_count": null,
   "id": "024dcdc4",
   "metadata": {},
   "outputs": [],
   "source": []
  }
 ],
 "metadata": {
  "kernelspec": {
   "display_name": "py37",
   "language": "python",
   "name": "py37"
  },
  "language_info": {
   "codemirror_mode": {
    "name": "ipython",
    "version": 3
   },
   "file_extension": ".py",
   "mimetype": "text/x-python",
   "name": "python",
   "nbconvert_exporter": "python",
   "pygments_lexer": "ipython3",
   "version": "3.7.11"
  }
 },
 "nbformat": 4,
 "nbformat_minor": 5
}
