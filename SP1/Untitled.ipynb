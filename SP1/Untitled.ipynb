{
 "cells": [
  {
   "cell_type": "code",
   "execution_count": 1,
   "id": "4c495080",
   "metadata": {},
   "outputs": [
    {
     "name": "stdout",
     "output_type": "stream",
     "text": [
      "airplane is an aircraft with a higher density than the air.\n"
     ]
    }
   ],
   "source": [
    "import re\n",
    "\n",
    "input_phrase = \"An airplane is an aircraft with a higher density than the air.\"\n",
    "output_phrase = re.sub(r\"^(the|and|a|an|this|that) \", '', input_phrase, flags=re.IGNORECASE)\n",
    "print(output_phrase)"
   ]
  },
  {
   "cell_type": "code",
   "execution_count": null,
   "id": "f76b630c",
   "metadata": {},
   "outputs": [],
   "source": []
  }
 ],
 "metadata": {
  "kernelspec": {
   "display_name": "Python 3 (ipykernel)",
   "language": "python",
   "name": "python3"
  },
  "language_info": {
   "codemirror_mode": {
    "name": "ipython",
    "version": 3
   },
   "file_extension": ".py",
   "mimetype": "text/x-python",
   "name": "python",
   "nbconvert_exporter": "python",
   "pygments_lexer": "ipython3",
   "version": "3.8.13"
  }
 },
 "nbformat": 4,
 "nbformat_minor": 5
}
